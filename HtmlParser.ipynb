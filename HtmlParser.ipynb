{
 "cells": [
  {
   "cell_type": "code",
   "execution_count": 76,
   "metadata": {},
   "outputs": [],
   "source": [
    "import pandas as pd\n",
    "import glob\n",
    "import os\n",
    "import time\n",
    "import re\n",
    "from bs4 import BeautifulSoup\n",
    "import numpy as np"
   ]
  },
  {
   "cell_type": "code",
   "execution_count": 5,
   "metadata": {},
   "outputs": [],
   "source": [
    "file_location = \"C://Users//vince//stockmy//test//xml\""
   ]
  },
  {
   "cell_type": "code",
   "execution_count": 6,
   "metadata": {},
   "outputs": [],
   "source": [
    "file_list = []\n",
    "file_list = glob.glob(file_location + \"//*xml\")"
   ]
  },
  {
   "cell_type": "code",
   "execution_count": 7,
   "metadata": {},
   "outputs": [
    {
     "data": {
      "text/plain": [
       "['C://Users//vince//stockmy//test//xml\\\\GTB- Unaudited financial result for 1st qtr 31 March 2019.pdf.xml',\n",
       " 'C://Users//vince//stockmy//test//xml\\\\Q2 2019 Announcement.pdf.xml',\n",
       " 'C://Users//vince//stockmy//test//xml\\\\Q3 2019 Announcement.pdf.xml',\n",
       " 'C://Users//vince//stockmy//test//xml\\\\Q4 2019 Announcement.pdf.xml']"
      ]
     },
     "execution_count": 7,
     "metadata": {},
     "output_type": "execute_result"
    }
   ],
   "source": [
    "file_list"
   ]
  },
  {
   "cell_type": "code",
   "execution_count": 39,
   "metadata": {},
   "outputs": [],
   "source": [
    "soup_obj = []\n",
    "file = 'C://Users//vince//stockmy//test//xml\\\\Q2 2019 Announcement.pdf.xml'\n",
    "with open(file, encoding='utf8') as f:   \n",
    "    contents = f.read()\n",
    "    soup = BeautifulSoup(contents, 'lxml')"
   ]
  },
  {
   "cell_type": "code",
   "execution_count": 44,
   "metadata": {},
   "outputs": [],
   "source": [
    "page = soup.findAll('page')"
   ]
  },
  {
   "cell_type": "code",
   "execution_count": 46,
   "metadata": {},
   "outputs": [
    {
     "data": {
      "text/plain": [
       "15"
      ]
     },
     "execution_count": 46,
     "metadata": {},
     "output_type": "execute_result"
    }
   ],
   "source": [
    "len(page)"
   ]
  },
  {
   "cell_type": "code",
   "execution_count": 91,
   "metadata": {
    "scrolled": false
   },
   "outputs": [],
   "source": [
    "whole_pdf = []\n",
    "df = []\n",
    "for singlepage in page:\n",
    "    res = []\n",
    "    for text in singlepage.findAll('text'):\n",
    "        top = text.get('top')\n",
    "        left = text.get('left')\n",
    "        width = text.get('width')\n",
    "        row = [left, top, width, text.text.strip()]       \n",
    "        res.append(row)\n",
    "        df = pd.DataFrame(res, columns=[\"Left\" ,\"Top\" ,\"Width\" ,\"Content\"])\n",
    "    whole_pdf.append(df)"
   ]
  },
  {
   "cell_type": "code",
   "execution_count": 108,
   "metadata": {},
   "outputs": [
    {
     "data": {
      "text/html": [
       "<div>\n",
       "<style scoped>\n",
       "    .dataframe tbody tr th:only-of-type {\n",
       "        vertical-align: middle;\n",
       "    }\n",
       "\n",
       "    .dataframe tbody tr th {\n",
       "        vertical-align: top;\n",
       "    }\n",
       "\n",
       "    .dataframe thead th {\n",
       "        text-align: right;\n",
       "    }\n",
       "</style>\n",
       "<table border=\"1\" class=\"dataframe\">\n",
       "  <thead>\n",
       "    <tr style=\"text-align: right;\">\n",
       "      <th></th>\n",
       "      <th>Left</th>\n",
       "      <th>Top</th>\n",
       "      <th>Width</th>\n",
       "      <th>Content</th>\n",
       "    </tr>\n",
       "  </thead>\n",
       "  <tbody>\n",
       "    <tr>\n",
       "      <th>0</th>\n",
       "      <td>159</td>\n",
       "      <td>62</td>\n",
       "      <td>279</td>\n",
       "      <td>GREATECH TECHNOLOGY BERHAD</td>\n",
       "    </tr>\n",
       "    <tr>\n",
       "      <th>1</th>\n",
       "      <td>159</td>\n",
       "      <td>82</td>\n",
       "      <td>180</td>\n",
       "      <td>(Company No. 1270647-H)</td>\n",
       "    </tr>\n",
       "    <tr>\n",
       "      <th>2</th>\n",
       "      <td>159</td>\n",
       "      <td>103</td>\n",
       "      <td>368</td>\n",
       "      <td>(Incorporated in Malaysia under the Companies ...</td>\n",
       "    </tr>\n",
       "    <tr>\n",
       "      <th>3</th>\n",
       "      <td>159</td>\n",
       "      <td>124</td>\n",
       "      <td>444</td>\n",
       "      <td>Interim Financial Report For The Second Quarte...</td>\n",
       "    </tr>\n",
       "    <tr>\n",
       "      <th>4</th>\n",
       "      <td>436</td>\n",
       "      <td>263</td>\n",
       "      <td>65</td>\n",
       "      <td>30/06/2019</td>\n",
       "    </tr>\n",
       "    <tr>\n",
       "      <th>...</th>\n",
       "      <td>...</td>\n",
       "      <td>...</td>\n",
       "      <td>...</td>\n",
       "      <td>...</td>\n",
       "    </tr>\n",
       "    <tr>\n",
       "      <th>117</th>\n",
       "      <td>159</td>\n",
       "      <td>975</td>\n",
       "      <td>650</td>\n",
       "      <td>No comparative figures for the corresponding p...</td>\n",
       "    </tr>\n",
       "    <tr>\n",
       "      <th>118</th>\n",
       "      <td>159</td>\n",
       "      <td>995</td>\n",
       "      <td>649</td>\n",
       "      <td>interim financial report on the consolidated r...</td>\n",
       "    </tr>\n",
       "    <tr>\n",
       "      <th>119</th>\n",
       "      <td>159</td>\n",
       "      <td>1015</td>\n",
       "      <td>650</td>\n",
       "      <td>Company in compliance with the ACE Market List...</td>\n",
       "    </tr>\n",
       "    <tr>\n",
       "      <th>120</th>\n",
       "      <td>159</td>\n",
       "      <td>1035</td>\n",
       "      <td>159</td>\n",
       "      <td>(“Listing Requirements”).</td>\n",
       "    </tr>\n",
       "    <tr>\n",
       "      <th>121</th>\n",
       "      <td>488</td>\n",
       "      <td>1146</td>\n",
       "      <td>8</td>\n",
       "      <td>2</td>\n",
       "    </tr>\n",
       "  </tbody>\n",
       "</table>\n",
       "<p>122 rows × 4 columns</p>\n",
       "</div>"
      ],
      "text/plain": [
       "    Left   Top Width                                            Content\n",
       "0    159    62   279                         GREATECH TECHNOLOGY BERHAD\n",
       "1    159    82   180                            (Company No. 1270647-H)\n",
       "2    159   103   368  (Incorporated in Malaysia under the Companies ...\n",
       "3    159   124   444  Interim Financial Report For The Second Quarte...\n",
       "4    436   263    65                                         30/06/2019\n",
       "..   ...   ...   ...                                                ...\n",
       "117  159   975   650  No comparative figures for the corresponding p...\n",
       "118  159   995   649  interim financial report on the consolidated r...\n",
       "119  159  1015   650  Company in compliance with the ACE Market List...\n",
       "120  159  1035   159                          (“Listing Requirements”).\n",
       "121  488  1146     8                                                  2\n",
       "\n",
       "[122 rows x 4 columns]"
      ]
     },
     "execution_count": 108,
     "metadata": {},
     "output_type": "execute_result"
    }
   ],
   "source": [
    "whole_pdf[2]"
   ]
  },
  {
   "cell_type": "code",
   "execution_count": 109,
   "metadata": {},
   "outputs": [
    {
     "data": {
      "text/plain": [
       "Left        int32\n",
       "Top         int32\n",
       "Width       int32\n",
       "Content    object\n",
       "dtype: object"
      ]
     },
     "execution_count": 109,
     "metadata": {},
     "output_type": "execute_result"
    }
   ],
   "source": [
    "df = whole_pdf[2].astype({\"Left\": int, \"Top\": int, \"Width\": int, \"Content\": str})\n",
    "df.dtypes"
   ]
  },
  {
   "cell_type": "code",
   "execution_count": 110,
   "metadata": {},
   "outputs": [
    {
     "name": "stdout",
     "output_type": "stream",
     "text": [
      "     Left   Top  Width                                            Content\n",
      "0     159    62    279                         GREATECH TECHNOLOGY BERHAD\n",
      "1     159    82    180                            (Company No. 1270647-H)\n",
      "2     159   103    368  (Incorporated in Malaysia under the Companies ...\n",
      "3     159   124    444  Interim Financial Report For The Second Quarte...\n",
      "4     436   263     65                                         30/06/2019\n",
      "..    ...   ...    ...                                                ...\n",
      "117   159   975    650  No comparative figures for the corresponding p...\n",
      "118   159   995    649  interim financial report on the consolidated r...\n",
      "119   159  1015    650  Company in compliance with the ACE Market List...\n",
      "120   159  1035    159                          (“Listing Requirements”).\n",
      "121   488  1146      8                                                  2\n",
      "\n",
      "[122 rows x 4 columns]\n"
     ]
    }
   ],
   "source": [
    "print(df)"
   ]
  },
  {
   "cell_type": "code",
   "execution_count": 111,
   "metadata": {},
   "outputs": [],
   "source": [
    "newdf = df.sort_values(by = ['Top', 'Left'])"
   ]
  },
  {
   "cell_type": "code",
   "execution_count": 112,
   "metadata": {},
   "outputs": [],
   "source": [
    "newdf.to_csv(r'test3.csv')"
   ]
  },
  {
   "cell_type": "code",
   "execution_count": 98,
   "metadata": {},
   "outputs": [],
   "source": [
    "lol = newdf.Content.notnull()"
   ]
  },
  {
   "cell_type": "code",
   "execution_count": 104,
   "metadata": {},
   "outputs": [
    {
     "name": "stdout",
     "output_type": "stream",
     "text": [
      "63\n",
      "84\n",
      "106\n",
      "128\n",
      "171\n",
      "189\n",
      "192\n",
      "234\n",
      "234\n",
      "255\n",
      "255\n",
      "275\n",
      "275\n",
      "296\n",
      "296\n",
      "317\n",
      "338\n",
      "359\n",
      "359\n",
      "359\n",
      "359\n",
      "359\n",
      "401\n",
      "422\n",
      "422\n",
      "422\n",
      "422\n",
      "422\n",
      "442\n",
      "442\n",
      "442\n",
      "442\n",
      "442\n",
      "463\n",
      "463\n",
      "463\n",
      "463\n",
      "463\n",
      "484\n",
      "484\n",
      "484\n",
      "484\n",
      "484\n",
      "505\n",
      "505\n",
      "505\n",
      "505\n",
      "505\n",
      "526\n",
      "526\n",
      "526\n",
      "526\n",
      "545\n",
      "545\n",
      "545\n",
      "545\n",
      "545\n",
      "589\n",
      "610\n",
      "630\n",
      "630\n",
      "630\n",
      "630\n",
      "630\n",
      "651\n",
      "651\n",
      "651\n",
      "651\n",
      "651\n",
      "672\n",
      "672\n",
      "672\n",
      "672\n",
      "672\n",
      "709\n",
      "730\n",
      "730\n",
      "730\n",
      "730\n",
      "730\n",
      "751\n",
      "751\n",
      "751\n",
      "751\n",
      "751\n",
      "772\n",
      "772\n",
      "772\n",
      "772\n",
      "810\n",
      "831\n",
      "831\n",
      "831\n",
      "831\n",
      "831\n",
      "852\n",
      "852\n",
      "852\n",
      "852\n",
      "852\n",
      "873\n",
      "873\n",
      "873\n",
      "873\n",
      "873\n",
      "894\n",
      "894\n",
      "894\n",
      "894\n",
      "894\n",
      "915\n",
      "915\n",
      "915\n",
      "915\n",
      "936\n",
      "936\n",
      "936\n",
      "936\n",
      "936\n",
      "955\n",
      "955\n",
      "955\n",
      "955\n",
      "955\n",
      "998\n",
      "998\n",
      "998\n",
      "998\n",
      "998\n",
      "1019\n",
      "1019\n",
      "1019\n",
      "1019\n",
      "1019\n",
      "1056\n",
      "1057\n",
      "1078\n",
      "1099\n",
      "1145\n"
     ]
    }
   ],
   "source": [
    "current_row_pos = 0\n",
    "res = []\n",
    "for row in newdf.Top:\n",
    "    current_row_pos = row\n",
    "    if(current_row_pos != )"
   ]
  }
 ],
 "metadata": {
  "kernelspec": {
   "display_name": "Python 3",
   "language": "python",
   "name": "python3"
  },
  "language_info": {
   "codemirror_mode": {
    "name": "ipython",
    "version": 3
   },
   "file_extension": ".py",
   "mimetype": "text/x-python",
   "name": "python",
   "nbconvert_exporter": "python",
   "pygments_lexer": "ipython3",
   "version": "3.7.6"
  }
 },
 "nbformat": 4,
 "nbformat_minor": 2
}
